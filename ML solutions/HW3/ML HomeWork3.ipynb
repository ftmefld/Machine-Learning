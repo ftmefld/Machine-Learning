{
  "cells": [
    {
      "cell_type": "markdown",
      "metadata": {
        "id": "6Chdh5DlRg7A"
      },
      "source": [
        "# Fateme Fouladi"
      ]
    },
    {
      "cell_type": "markdown",
      "source": [
        "# LDA assignment"
      ],
      "metadata": {
        "id": "UeELIhBvrjDF"
      }
    },
    {
      "cell_type": "code",
      "execution_count": 40,
      "metadata": {
        "id": "7HYwPszaRg7C"
      },
      "outputs": [],
      "source": [
        "import numpy as np\n",
        "import pandas as pd\n",
        "import matplotlib.pyplot as plt\n",
        "import seaborn as sns"
      ]
    },
    {
      "cell_type": "code",
      "execution_count": 41,
      "metadata": {
        "colab": {
          "base_uri": "https://localhost:8080/"
        },
        "id": "PKAef99mRg7D",
        "outputId": "71708cc3-7956-4818-f14a-04c75b6f60ca"
      },
      "outputs": [
        {
          "output_type": "stream",
          "name": "stderr",
          "text": [
            "/usr/local/lib/python3.10/dist-packages/sklearn/datasets/_openml.py:968: FutureWarning: The default value of `parser` will change from `'liac-arff'` to `'auto'` in 1.4. You can set `parser='auto'` to silence this warning. Therefore, an `ImportError` will be raised from 1.4 if the dataset is dense and pandas is not installed. Note that the pandas parser may return different data types. See the Notes Section in fetch_openml's API doc for details.\n",
            "  warn(\n"
          ]
        }
      ],
      "source": [
        "from sklearn.datasets import fetch_openml\n",
        "mnist = fetch_openml('mnist_784')"
      ]
    },
    {
      "cell_type": "code",
      "execution_count": 42,
      "metadata": {
        "id": "2QAvoRweRg7D"
      },
      "outputs": [],
      "source": [
        "X=mnist.data\n",
        "y=mnist.target"
      ]
    },
    {
      "cell_type": "code",
      "execution_count": 43,
      "metadata": {
        "id": "brJksgpIRg7E"
      },
      "outputs": [],
      "source": [
        "df=pd.concat([X, y], axis=1)"
      ]
    },
    {
      "cell_type": "code",
      "execution_count": 44,
      "metadata": {
        "colab": {
          "base_uri": "https://localhost:8080/",
          "height": 235
        },
        "id": "aAW9P_S1Rg7E",
        "outputId": "50e65087-3047-43a3-ca29-59a0827d2122"
      },
      "outputs": [
        {
          "output_type": "execute_result",
          "data": {
            "text/plain": [
              "   pixel1  pixel2  pixel3  pixel4  pixel5  pixel6  pixel7  pixel8  pixel9  \\\n",
              "0     0.0     0.0     0.0     0.0     0.0     0.0     0.0     0.0     0.0   \n",
              "1     0.0     0.0     0.0     0.0     0.0     0.0     0.0     0.0     0.0   \n",
              "2     0.0     0.0     0.0     0.0     0.0     0.0     0.0     0.0     0.0   \n",
              "3     0.0     0.0     0.0     0.0     0.0     0.0     0.0     0.0     0.0   \n",
              "4     0.0     0.0     0.0     0.0     0.0     0.0     0.0     0.0     0.0   \n",
              "\n",
              "   pixel10  ...  pixel776  pixel777  pixel778  pixel779  pixel780  pixel781  \\\n",
              "0      0.0  ...       0.0       0.0       0.0       0.0       0.0       0.0   \n",
              "1      0.0  ...       0.0       0.0       0.0       0.0       0.0       0.0   \n",
              "2      0.0  ...       0.0       0.0       0.0       0.0       0.0       0.0   \n",
              "3      0.0  ...       0.0       0.0       0.0       0.0       0.0       0.0   \n",
              "4      0.0  ...       0.0       0.0       0.0       0.0       0.0       0.0   \n",
              "\n",
              "   pixel782  pixel783  pixel784  class  \n",
              "0       0.0       0.0       0.0      5  \n",
              "1       0.0       0.0       0.0      0  \n",
              "2       0.0       0.0       0.0      4  \n",
              "3       0.0       0.0       0.0      1  \n",
              "4       0.0       0.0       0.0      9  \n",
              "\n",
              "[5 rows x 785 columns]"
            ],
            "text/html": [
              "\n",
              "  <div id=\"df-8e2f6e60-22d7-40fa-b3fb-4d4abbbd898a\" class=\"colab-df-container\">\n",
              "    <div>\n",
              "<style scoped>\n",
              "    .dataframe tbody tr th:only-of-type {\n",
              "        vertical-align: middle;\n",
              "    }\n",
              "\n",
              "    .dataframe tbody tr th {\n",
              "        vertical-align: top;\n",
              "    }\n",
              "\n",
              "    .dataframe thead th {\n",
              "        text-align: right;\n",
              "    }\n",
              "</style>\n",
              "<table border=\"1\" class=\"dataframe\">\n",
              "  <thead>\n",
              "    <tr style=\"text-align: right;\">\n",
              "      <th></th>\n",
              "      <th>pixel1</th>\n",
              "      <th>pixel2</th>\n",
              "      <th>pixel3</th>\n",
              "      <th>pixel4</th>\n",
              "      <th>pixel5</th>\n",
              "      <th>pixel6</th>\n",
              "      <th>pixel7</th>\n",
              "      <th>pixel8</th>\n",
              "      <th>pixel9</th>\n",
              "      <th>pixel10</th>\n",
              "      <th>...</th>\n",
              "      <th>pixel776</th>\n",
              "      <th>pixel777</th>\n",
              "      <th>pixel778</th>\n",
              "      <th>pixel779</th>\n",
              "      <th>pixel780</th>\n",
              "      <th>pixel781</th>\n",
              "      <th>pixel782</th>\n",
              "      <th>pixel783</th>\n",
              "      <th>pixel784</th>\n",
              "      <th>class</th>\n",
              "    </tr>\n",
              "  </thead>\n",
              "  <tbody>\n",
              "    <tr>\n",
              "      <th>0</th>\n",
              "      <td>0.0</td>\n",
              "      <td>0.0</td>\n",
              "      <td>0.0</td>\n",
              "      <td>0.0</td>\n",
              "      <td>0.0</td>\n",
              "      <td>0.0</td>\n",
              "      <td>0.0</td>\n",
              "      <td>0.0</td>\n",
              "      <td>0.0</td>\n",
              "      <td>0.0</td>\n",
              "      <td>...</td>\n",
              "      <td>0.0</td>\n",
              "      <td>0.0</td>\n",
              "      <td>0.0</td>\n",
              "      <td>0.0</td>\n",
              "      <td>0.0</td>\n",
              "      <td>0.0</td>\n",
              "      <td>0.0</td>\n",
              "      <td>0.0</td>\n",
              "      <td>0.0</td>\n",
              "      <td>5</td>\n",
              "    </tr>\n",
              "    <tr>\n",
              "      <th>1</th>\n",
              "      <td>0.0</td>\n",
              "      <td>0.0</td>\n",
              "      <td>0.0</td>\n",
              "      <td>0.0</td>\n",
              "      <td>0.0</td>\n",
              "      <td>0.0</td>\n",
              "      <td>0.0</td>\n",
              "      <td>0.0</td>\n",
              "      <td>0.0</td>\n",
              "      <td>0.0</td>\n",
              "      <td>...</td>\n",
              "      <td>0.0</td>\n",
              "      <td>0.0</td>\n",
              "      <td>0.0</td>\n",
              "      <td>0.0</td>\n",
              "      <td>0.0</td>\n",
              "      <td>0.0</td>\n",
              "      <td>0.0</td>\n",
              "      <td>0.0</td>\n",
              "      <td>0.0</td>\n",
              "      <td>0</td>\n",
              "    </tr>\n",
              "    <tr>\n",
              "      <th>2</th>\n",
              "      <td>0.0</td>\n",
              "      <td>0.0</td>\n",
              "      <td>0.0</td>\n",
              "      <td>0.0</td>\n",
              "      <td>0.0</td>\n",
              "      <td>0.0</td>\n",
              "      <td>0.0</td>\n",
              "      <td>0.0</td>\n",
              "      <td>0.0</td>\n",
              "      <td>0.0</td>\n",
              "      <td>...</td>\n",
              "      <td>0.0</td>\n",
              "      <td>0.0</td>\n",
              "      <td>0.0</td>\n",
              "      <td>0.0</td>\n",
              "      <td>0.0</td>\n",
              "      <td>0.0</td>\n",
              "      <td>0.0</td>\n",
              "      <td>0.0</td>\n",
              "      <td>0.0</td>\n",
              "      <td>4</td>\n",
              "    </tr>\n",
              "    <tr>\n",
              "      <th>3</th>\n",
              "      <td>0.0</td>\n",
              "      <td>0.0</td>\n",
              "      <td>0.0</td>\n",
              "      <td>0.0</td>\n",
              "      <td>0.0</td>\n",
              "      <td>0.0</td>\n",
              "      <td>0.0</td>\n",
              "      <td>0.0</td>\n",
              "      <td>0.0</td>\n",
              "      <td>0.0</td>\n",
              "      <td>...</td>\n",
              "      <td>0.0</td>\n",
              "      <td>0.0</td>\n",
              "      <td>0.0</td>\n",
              "      <td>0.0</td>\n",
              "      <td>0.0</td>\n",
              "      <td>0.0</td>\n",
              "      <td>0.0</td>\n",
              "      <td>0.0</td>\n",
              "      <td>0.0</td>\n",
              "      <td>1</td>\n",
              "    </tr>\n",
              "    <tr>\n",
              "      <th>4</th>\n",
              "      <td>0.0</td>\n",
              "      <td>0.0</td>\n",
              "      <td>0.0</td>\n",
              "      <td>0.0</td>\n",
              "      <td>0.0</td>\n",
              "      <td>0.0</td>\n",
              "      <td>0.0</td>\n",
              "      <td>0.0</td>\n",
              "      <td>0.0</td>\n",
              "      <td>0.0</td>\n",
              "      <td>...</td>\n",
              "      <td>0.0</td>\n",
              "      <td>0.0</td>\n",
              "      <td>0.0</td>\n",
              "      <td>0.0</td>\n",
              "      <td>0.0</td>\n",
              "      <td>0.0</td>\n",
              "      <td>0.0</td>\n",
              "      <td>0.0</td>\n",
              "      <td>0.0</td>\n",
              "      <td>9</td>\n",
              "    </tr>\n",
              "  </tbody>\n",
              "</table>\n",
              "<p>5 rows × 785 columns</p>\n",
              "</div>\n",
              "    <div class=\"colab-df-buttons\">\n",
              "\n",
              "  <div class=\"colab-df-container\">\n",
              "    <button class=\"colab-df-convert\" onclick=\"convertToInteractive('df-8e2f6e60-22d7-40fa-b3fb-4d4abbbd898a')\"\n",
              "            title=\"Convert this dataframe to an interactive table.\"\n",
              "            style=\"display:none;\">\n",
              "\n",
              "  <svg xmlns=\"http://www.w3.org/2000/svg\" height=\"24px\" viewBox=\"0 -960 960 960\">\n",
              "    <path d=\"M120-120v-720h720v720H120Zm60-500h600v-160H180v160Zm220 220h160v-160H400v160Zm0 220h160v-160H400v160ZM180-400h160v-160H180v160Zm440 0h160v-160H620v160ZM180-180h160v-160H180v160Zm440 0h160v-160H620v160Z\"/>\n",
              "  </svg>\n",
              "    </button>\n",
              "\n",
              "  <style>\n",
              "    .colab-df-container {\n",
              "      display:flex;\n",
              "      gap: 12px;\n",
              "    }\n",
              "\n",
              "    .colab-df-convert {\n",
              "      background-color: #E8F0FE;\n",
              "      border: none;\n",
              "      border-radius: 50%;\n",
              "      cursor: pointer;\n",
              "      display: none;\n",
              "      fill: #1967D2;\n",
              "      height: 32px;\n",
              "      padding: 0 0 0 0;\n",
              "      width: 32px;\n",
              "    }\n",
              "\n",
              "    .colab-df-convert:hover {\n",
              "      background-color: #E2EBFA;\n",
              "      box-shadow: 0px 1px 2px rgba(60, 64, 67, 0.3), 0px 1px 3px 1px rgba(60, 64, 67, 0.15);\n",
              "      fill: #174EA6;\n",
              "    }\n",
              "\n",
              "    .colab-df-buttons div {\n",
              "      margin-bottom: 4px;\n",
              "    }\n",
              "\n",
              "    [theme=dark] .colab-df-convert {\n",
              "      background-color: #3B4455;\n",
              "      fill: #D2E3FC;\n",
              "    }\n",
              "\n",
              "    [theme=dark] .colab-df-convert:hover {\n",
              "      background-color: #434B5C;\n",
              "      box-shadow: 0px 1px 3px 1px rgba(0, 0, 0, 0.15);\n",
              "      filter: drop-shadow(0px 1px 2px rgba(0, 0, 0, 0.3));\n",
              "      fill: #FFFFFF;\n",
              "    }\n",
              "  </style>\n",
              "\n",
              "    <script>\n",
              "      const buttonEl =\n",
              "        document.querySelector('#df-8e2f6e60-22d7-40fa-b3fb-4d4abbbd898a button.colab-df-convert');\n",
              "      buttonEl.style.display =\n",
              "        google.colab.kernel.accessAllowed ? 'block' : 'none';\n",
              "\n",
              "      async function convertToInteractive(key) {\n",
              "        const element = document.querySelector('#df-8e2f6e60-22d7-40fa-b3fb-4d4abbbd898a');\n",
              "        const dataTable =\n",
              "          await google.colab.kernel.invokeFunction('convertToInteractive',\n",
              "                                                    [key], {});\n",
              "        if (!dataTable) return;\n",
              "\n",
              "        const docLinkHtml = 'Like what you see? Visit the ' +\n",
              "          '<a target=\"_blank\" href=https://colab.research.google.com/notebooks/data_table.ipynb>data table notebook</a>'\n",
              "          + ' to learn more about interactive tables.';\n",
              "        element.innerHTML = '';\n",
              "        dataTable['output_type'] = 'display_data';\n",
              "        await google.colab.output.renderOutput(dataTable, element);\n",
              "        const docLink = document.createElement('div');\n",
              "        docLink.innerHTML = docLinkHtml;\n",
              "        element.appendChild(docLink);\n",
              "      }\n",
              "    </script>\n",
              "  </div>\n",
              "\n",
              "\n",
              "<div id=\"df-8b88ca04-274c-4d4d-ab4e-7bbc02142528\">\n",
              "  <button class=\"colab-df-quickchart\" onclick=\"quickchart('df-8b88ca04-274c-4d4d-ab4e-7bbc02142528')\"\n",
              "            title=\"Suggest charts\"\n",
              "            style=\"display:none;\">\n",
              "\n",
              "<svg xmlns=\"http://www.w3.org/2000/svg\" height=\"24px\"viewBox=\"0 0 24 24\"\n",
              "     width=\"24px\">\n",
              "    <g>\n",
              "        <path d=\"M19 3H5c-1.1 0-2 .9-2 2v14c0 1.1.9 2 2 2h14c1.1 0 2-.9 2-2V5c0-1.1-.9-2-2-2zM9 17H7v-7h2v7zm4 0h-2V7h2v10zm4 0h-2v-4h2v4z\"/>\n",
              "    </g>\n",
              "</svg>\n",
              "  </button>\n",
              "\n",
              "<style>\n",
              "  .colab-df-quickchart {\n",
              "      --bg-color: #E8F0FE;\n",
              "      --fill-color: #1967D2;\n",
              "      --hover-bg-color: #E2EBFA;\n",
              "      --hover-fill-color: #174EA6;\n",
              "      --disabled-fill-color: #AAA;\n",
              "      --disabled-bg-color: #DDD;\n",
              "  }\n",
              "\n",
              "  [theme=dark] .colab-df-quickchart {\n",
              "      --bg-color: #3B4455;\n",
              "      --fill-color: #D2E3FC;\n",
              "      --hover-bg-color: #434B5C;\n",
              "      --hover-fill-color: #FFFFFF;\n",
              "      --disabled-bg-color: #3B4455;\n",
              "      --disabled-fill-color: #666;\n",
              "  }\n",
              "\n",
              "  .colab-df-quickchart {\n",
              "    background-color: var(--bg-color);\n",
              "    border: none;\n",
              "    border-radius: 50%;\n",
              "    cursor: pointer;\n",
              "    display: none;\n",
              "    fill: var(--fill-color);\n",
              "    height: 32px;\n",
              "    padding: 0;\n",
              "    width: 32px;\n",
              "  }\n",
              "\n",
              "  .colab-df-quickchart:hover {\n",
              "    background-color: var(--hover-bg-color);\n",
              "    box-shadow: 0 1px 2px rgba(60, 64, 67, 0.3), 0 1px 3px 1px rgba(60, 64, 67, 0.15);\n",
              "    fill: var(--button-hover-fill-color);\n",
              "  }\n",
              "\n",
              "  .colab-df-quickchart-complete:disabled,\n",
              "  .colab-df-quickchart-complete:disabled:hover {\n",
              "    background-color: var(--disabled-bg-color);\n",
              "    fill: var(--disabled-fill-color);\n",
              "    box-shadow: none;\n",
              "  }\n",
              "\n",
              "  .colab-df-spinner {\n",
              "    border: 2px solid var(--fill-color);\n",
              "    border-color: transparent;\n",
              "    border-bottom-color: var(--fill-color);\n",
              "    animation:\n",
              "      spin 1s steps(1) infinite;\n",
              "  }\n",
              "\n",
              "  @keyframes spin {\n",
              "    0% {\n",
              "      border-color: transparent;\n",
              "      border-bottom-color: var(--fill-color);\n",
              "      border-left-color: var(--fill-color);\n",
              "    }\n",
              "    20% {\n",
              "      border-color: transparent;\n",
              "      border-left-color: var(--fill-color);\n",
              "      border-top-color: var(--fill-color);\n",
              "    }\n",
              "    30% {\n",
              "      border-color: transparent;\n",
              "      border-left-color: var(--fill-color);\n",
              "      border-top-color: var(--fill-color);\n",
              "      border-right-color: var(--fill-color);\n",
              "    }\n",
              "    40% {\n",
              "      border-color: transparent;\n",
              "      border-right-color: var(--fill-color);\n",
              "      border-top-color: var(--fill-color);\n",
              "    }\n",
              "    60% {\n",
              "      border-color: transparent;\n",
              "      border-right-color: var(--fill-color);\n",
              "    }\n",
              "    80% {\n",
              "      border-color: transparent;\n",
              "      border-right-color: var(--fill-color);\n",
              "      border-bottom-color: var(--fill-color);\n",
              "    }\n",
              "    90% {\n",
              "      border-color: transparent;\n",
              "      border-bottom-color: var(--fill-color);\n",
              "    }\n",
              "  }\n",
              "</style>\n",
              "\n",
              "  <script>\n",
              "    async function quickchart(key) {\n",
              "      const quickchartButtonEl =\n",
              "        document.querySelector('#' + key + ' button');\n",
              "      quickchartButtonEl.disabled = true;  // To prevent multiple clicks.\n",
              "      quickchartButtonEl.classList.add('colab-df-spinner');\n",
              "      try {\n",
              "        const charts = await google.colab.kernel.invokeFunction(\n",
              "            'suggestCharts', [key], {});\n",
              "      } catch (error) {\n",
              "        console.error('Error during call to suggestCharts:', error);\n",
              "      }\n",
              "      quickchartButtonEl.classList.remove('colab-df-spinner');\n",
              "      quickchartButtonEl.classList.add('colab-df-quickchart-complete');\n",
              "    }\n",
              "    (() => {\n",
              "      let quickchartButtonEl =\n",
              "        document.querySelector('#df-8b88ca04-274c-4d4d-ab4e-7bbc02142528 button');\n",
              "      quickchartButtonEl.style.display =\n",
              "        google.colab.kernel.accessAllowed ? 'block' : 'none';\n",
              "    })();\n",
              "  </script>\n",
              "</div>\n",
              "    </div>\n",
              "  </div>\n"
            ]
          },
          "metadata": {},
          "execution_count": 44
        }
      ],
      "source": [
        "df.head()"
      ]
    },
    {
      "cell_type": "code",
      "execution_count": 45,
      "metadata": {
        "colab": {
          "base_uri": "https://localhost:8080/"
        },
        "id": "lgi6k6sARg7E",
        "outputId": "241a04b5-8db0-43b2-cd5c-77025f32505c"
      },
      "outputs": [
        {
          "output_type": "stream",
          "name": "stdout",
          "text": [
            "<class 'pandas.core.frame.DataFrame'>\n",
            "RangeIndex: 70000 entries, 0 to 69999\n",
            "Columns: 784 entries, pixel1 to pixel784\n",
            "dtypes: float64(784)\n",
            "memory usage: 418.7 MB\n"
          ]
        }
      ],
      "source": [
        "X.info()"
      ]
    },
    {
      "cell_type": "code",
      "execution_count": 46,
      "metadata": {
        "colab": {
          "base_uri": "https://localhost:8080/",
          "height": 329
        },
        "id": "nSshp__ZRg7E",
        "outputId": "afc7deb9-a16e-4043-8b70-52f18ba4bb09"
      },
      "outputs": [
        {
          "output_type": "execute_result",
          "data": {
            "text/plain": [
              "        pixel1   pixel2   pixel3   pixel4   pixel5   pixel6   pixel7   pixel8  \\\n",
              "count  70000.0  70000.0  70000.0  70000.0  70000.0  70000.0  70000.0  70000.0   \n",
              "mean       0.0      0.0      0.0      0.0      0.0      0.0      0.0      0.0   \n",
              "std        0.0      0.0      0.0      0.0      0.0      0.0      0.0      0.0   \n",
              "min        0.0      0.0      0.0      0.0      0.0      0.0      0.0      0.0   \n",
              "25%        0.0      0.0      0.0      0.0      0.0      0.0      0.0      0.0   \n",
              "50%        0.0      0.0      0.0      0.0      0.0      0.0      0.0      0.0   \n",
              "75%        0.0      0.0      0.0      0.0      0.0      0.0      0.0      0.0   \n",
              "max        0.0      0.0      0.0      0.0      0.0      0.0      0.0      0.0   \n",
              "\n",
              "        pixel9  pixel10  ...      pixel775      pixel776      pixel777  \\\n",
              "count  70000.0  70000.0  ...  70000.000000  70000.000000  70000.000000   \n",
              "mean       0.0      0.0  ...      0.197414      0.099543      0.046629   \n",
              "std        0.0      0.0  ...      5.991206      4.256304      2.783732   \n",
              "min        0.0      0.0  ...      0.000000      0.000000      0.000000   \n",
              "25%        0.0      0.0  ...      0.000000      0.000000      0.000000   \n",
              "50%        0.0      0.0  ...      0.000000      0.000000      0.000000   \n",
              "75%        0.0      0.0  ...      0.000000      0.000000      0.000000   \n",
              "max        0.0      0.0  ...    254.000000    254.000000    253.000000   \n",
              "\n",
              "           pixel778      pixel779      pixel780  pixel781  pixel782  pixel783  \\\n",
              "count  70000.000000  70000.000000  70000.000000   70000.0   70000.0   70000.0   \n",
              "mean       0.016614      0.012957      0.001714       0.0       0.0       0.0   \n",
              "std        1.561822      1.553796      0.320889       0.0       0.0       0.0   \n",
              "min        0.000000      0.000000      0.000000       0.0       0.0       0.0   \n",
              "25%        0.000000      0.000000      0.000000       0.0       0.0       0.0   \n",
              "50%        0.000000      0.000000      0.000000       0.0       0.0       0.0   \n",
              "75%        0.000000      0.000000      0.000000       0.0       0.0       0.0   \n",
              "max      253.000000    254.000000     62.000000       0.0       0.0       0.0   \n",
              "\n",
              "       pixel784  \n",
              "count   70000.0  \n",
              "mean        0.0  \n",
              "std         0.0  \n",
              "min         0.0  \n",
              "25%         0.0  \n",
              "50%         0.0  \n",
              "75%         0.0  \n",
              "max         0.0  \n",
              "\n",
              "[8 rows x 784 columns]"
            ],
            "text/html": [
              "\n",
              "  <div id=\"df-56b81de2-3113-4b76-81fc-3962f83b2df8\" class=\"colab-df-container\">\n",
              "    <div>\n",
              "<style scoped>\n",
              "    .dataframe tbody tr th:only-of-type {\n",
              "        vertical-align: middle;\n",
              "    }\n",
              "\n",
              "    .dataframe tbody tr th {\n",
              "        vertical-align: top;\n",
              "    }\n",
              "\n",
              "    .dataframe thead th {\n",
              "        text-align: right;\n",
              "    }\n",
              "</style>\n",
              "<table border=\"1\" class=\"dataframe\">\n",
              "  <thead>\n",
              "    <tr style=\"text-align: right;\">\n",
              "      <th></th>\n",
              "      <th>pixel1</th>\n",
              "      <th>pixel2</th>\n",
              "      <th>pixel3</th>\n",
              "      <th>pixel4</th>\n",
              "      <th>pixel5</th>\n",
              "      <th>pixel6</th>\n",
              "      <th>pixel7</th>\n",
              "      <th>pixel8</th>\n",
              "      <th>pixel9</th>\n",
              "      <th>pixel10</th>\n",
              "      <th>...</th>\n",
              "      <th>pixel775</th>\n",
              "      <th>pixel776</th>\n",
              "      <th>pixel777</th>\n",
              "      <th>pixel778</th>\n",
              "      <th>pixel779</th>\n",
              "      <th>pixel780</th>\n",
              "      <th>pixel781</th>\n",
              "      <th>pixel782</th>\n",
              "      <th>pixel783</th>\n",
              "      <th>pixel784</th>\n",
              "    </tr>\n",
              "  </thead>\n",
              "  <tbody>\n",
              "    <tr>\n",
              "      <th>count</th>\n",
              "      <td>70000.0</td>\n",
              "      <td>70000.0</td>\n",
              "      <td>70000.0</td>\n",
              "      <td>70000.0</td>\n",
              "      <td>70000.0</td>\n",
              "      <td>70000.0</td>\n",
              "      <td>70000.0</td>\n",
              "      <td>70000.0</td>\n",
              "      <td>70000.0</td>\n",
              "      <td>70000.0</td>\n",
              "      <td>...</td>\n",
              "      <td>70000.000000</td>\n",
              "      <td>70000.000000</td>\n",
              "      <td>70000.000000</td>\n",
              "      <td>70000.000000</td>\n",
              "      <td>70000.000000</td>\n",
              "      <td>70000.000000</td>\n",
              "      <td>70000.0</td>\n",
              "      <td>70000.0</td>\n",
              "      <td>70000.0</td>\n",
              "      <td>70000.0</td>\n",
              "    </tr>\n",
              "    <tr>\n",
              "      <th>mean</th>\n",
              "      <td>0.0</td>\n",
              "      <td>0.0</td>\n",
              "      <td>0.0</td>\n",
              "      <td>0.0</td>\n",
              "      <td>0.0</td>\n",
              "      <td>0.0</td>\n",
              "      <td>0.0</td>\n",
              "      <td>0.0</td>\n",
              "      <td>0.0</td>\n",
              "      <td>0.0</td>\n",
              "      <td>...</td>\n",
              "      <td>0.197414</td>\n",
              "      <td>0.099543</td>\n",
              "      <td>0.046629</td>\n",
              "      <td>0.016614</td>\n",
              "      <td>0.012957</td>\n",
              "      <td>0.001714</td>\n",
              "      <td>0.0</td>\n",
              "      <td>0.0</td>\n",
              "      <td>0.0</td>\n",
              "      <td>0.0</td>\n",
              "    </tr>\n",
              "    <tr>\n",
              "      <th>std</th>\n",
              "      <td>0.0</td>\n",
              "      <td>0.0</td>\n",
              "      <td>0.0</td>\n",
              "      <td>0.0</td>\n",
              "      <td>0.0</td>\n",
              "      <td>0.0</td>\n",
              "      <td>0.0</td>\n",
              "      <td>0.0</td>\n",
              "      <td>0.0</td>\n",
              "      <td>0.0</td>\n",
              "      <td>...</td>\n",
              "      <td>5.991206</td>\n",
              "      <td>4.256304</td>\n",
              "      <td>2.783732</td>\n",
              "      <td>1.561822</td>\n",
              "      <td>1.553796</td>\n",
              "      <td>0.320889</td>\n",
              "      <td>0.0</td>\n",
              "      <td>0.0</td>\n",
              "      <td>0.0</td>\n",
              "      <td>0.0</td>\n",
              "    </tr>\n",
              "    <tr>\n",
              "      <th>min</th>\n",
              "      <td>0.0</td>\n",
              "      <td>0.0</td>\n",
              "      <td>0.0</td>\n",
              "      <td>0.0</td>\n",
              "      <td>0.0</td>\n",
              "      <td>0.0</td>\n",
              "      <td>0.0</td>\n",
              "      <td>0.0</td>\n",
              "      <td>0.0</td>\n",
              "      <td>0.0</td>\n",
              "      <td>...</td>\n",
              "      <td>0.000000</td>\n",
              "      <td>0.000000</td>\n",
              "      <td>0.000000</td>\n",
              "      <td>0.000000</td>\n",
              "      <td>0.000000</td>\n",
              "      <td>0.000000</td>\n",
              "      <td>0.0</td>\n",
              "      <td>0.0</td>\n",
              "      <td>0.0</td>\n",
              "      <td>0.0</td>\n",
              "    </tr>\n",
              "    <tr>\n",
              "      <th>25%</th>\n",
              "      <td>0.0</td>\n",
              "      <td>0.0</td>\n",
              "      <td>0.0</td>\n",
              "      <td>0.0</td>\n",
              "      <td>0.0</td>\n",
              "      <td>0.0</td>\n",
              "      <td>0.0</td>\n",
              "      <td>0.0</td>\n",
              "      <td>0.0</td>\n",
              "      <td>0.0</td>\n",
              "      <td>...</td>\n",
              "      <td>0.000000</td>\n",
              "      <td>0.000000</td>\n",
              "      <td>0.000000</td>\n",
              "      <td>0.000000</td>\n",
              "      <td>0.000000</td>\n",
              "      <td>0.000000</td>\n",
              "      <td>0.0</td>\n",
              "      <td>0.0</td>\n",
              "      <td>0.0</td>\n",
              "      <td>0.0</td>\n",
              "    </tr>\n",
              "    <tr>\n",
              "      <th>50%</th>\n",
              "      <td>0.0</td>\n",
              "      <td>0.0</td>\n",
              "      <td>0.0</td>\n",
              "      <td>0.0</td>\n",
              "      <td>0.0</td>\n",
              "      <td>0.0</td>\n",
              "      <td>0.0</td>\n",
              "      <td>0.0</td>\n",
              "      <td>0.0</td>\n",
              "      <td>0.0</td>\n",
              "      <td>...</td>\n",
              "      <td>0.000000</td>\n",
              "      <td>0.000000</td>\n",
              "      <td>0.000000</td>\n",
              "      <td>0.000000</td>\n",
              "      <td>0.000000</td>\n",
              "      <td>0.000000</td>\n",
              "      <td>0.0</td>\n",
              "      <td>0.0</td>\n",
              "      <td>0.0</td>\n",
              "      <td>0.0</td>\n",
              "    </tr>\n",
              "    <tr>\n",
              "      <th>75%</th>\n",
              "      <td>0.0</td>\n",
              "      <td>0.0</td>\n",
              "      <td>0.0</td>\n",
              "      <td>0.0</td>\n",
              "      <td>0.0</td>\n",
              "      <td>0.0</td>\n",
              "      <td>0.0</td>\n",
              "      <td>0.0</td>\n",
              "      <td>0.0</td>\n",
              "      <td>0.0</td>\n",
              "      <td>...</td>\n",
              "      <td>0.000000</td>\n",
              "      <td>0.000000</td>\n",
              "      <td>0.000000</td>\n",
              "      <td>0.000000</td>\n",
              "      <td>0.000000</td>\n",
              "      <td>0.000000</td>\n",
              "      <td>0.0</td>\n",
              "      <td>0.0</td>\n",
              "      <td>0.0</td>\n",
              "      <td>0.0</td>\n",
              "    </tr>\n",
              "    <tr>\n",
              "      <th>max</th>\n",
              "      <td>0.0</td>\n",
              "      <td>0.0</td>\n",
              "      <td>0.0</td>\n",
              "      <td>0.0</td>\n",
              "      <td>0.0</td>\n",
              "      <td>0.0</td>\n",
              "      <td>0.0</td>\n",
              "      <td>0.0</td>\n",
              "      <td>0.0</td>\n",
              "      <td>0.0</td>\n",
              "      <td>...</td>\n",
              "      <td>254.000000</td>\n",
              "      <td>254.000000</td>\n",
              "      <td>253.000000</td>\n",
              "      <td>253.000000</td>\n",
              "      <td>254.000000</td>\n",
              "      <td>62.000000</td>\n",
              "      <td>0.0</td>\n",
              "      <td>0.0</td>\n",
              "      <td>0.0</td>\n",
              "      <td>0.0</td>\n",
              "    </tr>\n",
              "  </tbody>\n",
              "</table>\n",
              "<p>8 rows × 784 columns</p>\n",
              "</div>\n",
              "    <div class=\"colab-df-buttons\">\n",
              "\n",
              "  <div class=\"colab-df-container\">\n",
              "    <button class=\"colab-df-convert\" onclick=\"convertToInteractive('df-56b81de2-3113-4b76-81fc-3962f83b2df8')\"\n",
              "            title=\"Convert this dataframe to an interactive table.\"\n",
              "            style=\"display:none;\">\n",
              "\n",
              "  <svg xmlns=\"http://www.w3.org/2000/svg\" height=\"24px\" viewBox=\"0 -960 960 960\">\n",
              "    <path d=\"M120-120v-720h720v720H120Zm60-500h600v-160H180v160Zm220 220h160v-160H400v160Zm0 220h160v-160H400v160ZM180-400h160v-160H180v160Zm440 0h160v-160H620v160ZM180-180h160v-160H180v160Zm440 0h160v-160H620v160Z\"/>\n",
              "  </svg>\n",
              "    </button>\n",
              "\n",
              "  <style>\n",
              "    .colab-df-container {\n",
              "      display:flex;\n",
              "      gap: 12px;\n",
              "    }\n",
              "\n",
              "    .colab-df-convert {\n",
              "      background-color: #E8F0FE;\n",
              "      border: none;\n",
              "      border-radius: 50%;\n",
              "      cursor: pointer;\n",
              "      display: none;\n",
              "      fill: #1967D2;\n",
              "      height: 32px;\n",
              "      padding: 0 0 0 0;\n",
              "      width: 32px;\n",
              "    }\n",
              "\n",
              "    .colab-df-convert:hover {\n",
              "      background-color: #E2EBFA;\n",
              "      box-shadow: 0px 1px 2px rgba(60, 64, 67, 0.3), 0px 1px 3px 1px rgba(60, 64, 67, 0.15);\n",
              "      fill: #174EA6;\n",
              "    }\n",
              "\n",
              "    .colab-df-buttons div {\n",
              "      margin-bottom: 4px;\n",
              "    }\n",
              "\n",
              "    [theme=dark] .colab-df-convert {\n",
              "      background-color: #3B4455;\n",
              "      fill: #D2E3FC;\n",
              "    }\n",
              "\n",
              "    [theme=dark] .colab-df-convert:hover {\n",
              "      background-color: #434B5C;\n",
              "      box-shadow: 0px 1px 3px 1px rgba(0, 0, 0, 0.15);\n",
              "      filter: drop-shadow(0px 1px 2px rgba(0, 0, 0, 0.3));\n",
              "      fill: #FFFFFF;\n",
              "    }\n",
              "  </style>\n",
              "\n",
              "    <script>\n",
              "      const buttonEl =\n",
              "        document.querySelector('#df-56b81de2-3113-4b76-81fc-3962f83b2df8 button.colab-df-convert');\n",
              "      buttonEl.style.display =\n",
              "        google.colab.kernel.accessAllowed ? 'block' : 'none';\n",
              "\n",
              "      async function convertToInteractive(key) {\n",
              "        const element = document.querySelector('#df-56b81de2-3113-4b76-81fc-3962f83b2df8');\n",
              "        const dataTable =\n",
              "          await google.colab.kernel.invokeFunction('convertToInteractive',\n",
              "                                                    [key], {});\n",
              "        if (!dataTable) return;\n",
              "\n",
              "        const docLinkHtml = 'Like what you see? Visit the ' +\n",
              "          '<a target=\"_blank\" href=https://colab.research.google.com/notebooks/data_table.ipynb>data table notebook</a>'\n",
              "          + ' to learn more about interactive tables.';\n",
              "        element.innerHTML = '';\n",
              "        dataTable['output_type'] = 'display_data';\n",
              "        await google.colab.output.renderOutput(dataTable, element);\n",
              "        const docLink = document.createElement('div');\n",
              "        docLink.innerHTML = docLinkHtml;\n",
              "        element.appendChild(docLink);\n",
              "      }\n",
              "    </script>\n",
              "  </div>\n",
              "\n",
              "\n",
              "<div id=\"df-b501edff-b660-49b6-9673-58051d9bae06\">\n",
              "  <button class=\"colab-df-quickchart\" onclick=\"quickchart('df-b501edff-b660-49b6-9673-58051d9bae06')\"\n",
              "            title=\"Suggest charts\"\n",
              "            style=\"display:none;\">\n",
              "\n",
              "<svg xmlns=\"http://www.w3.org/2000/svg\" height=\"24px\"viewBox=\"0 0 24 24\"\n",
              "     width=\"24px\">\n",
              "    <g>\n",
              "        <path d=\"M19 3H5c-1.1 0-2 .9-2 2v14c0 1.1.9 2 2 2h14c1.1 0 2-.9 2-2V5c0-1.1-.9-2-2-2zM9 17H7v-7h2v7zm4 0h-2V7h2v10zm4 0h-2v-4h2v4z\"/>\n",
              "    </g>\n",
              "</svg>\n",
              "  </button>\n",
              "\n",
              "<style>\n",
              "  .colab-df-quickchart {\n",
              "      --bg-color: #E8F0FE;\n",
              "      --fill-color: #1967D2;\n",
              "      --hover-bg-color: #E2EBFA;\n",
              "      --hover-fill-color: #174EA6;\n",
              "      --disabled-fill-color: #AAA;\n",
              "      --disabled-bg-color: #DDD;\n",
              "  }\n",
              "\n",
              "  [theme=dark] .colab-df-quickchart {\n",
              "      --bg-color: #3B4455;\n",
              "      --fill-color: #D2E3FC;\n",
              "      --hover-bg-color: #434B5C;\n",
              "      --hover-fill-color: #FFFFFF;\n",
              "      --disabled-bg-color: #3B4455;\n",
              "      --disabled-fill-color: #666;\n",
              "  }\n",
              "\n",
              "  .colab-df-quickchart {\n",
              "    background-color: var(--bg-color);\n",
              "    border: none;\n",
              "    border-radius: 50%;\n",
              "    cursor: pointer;\n",
              "    display: none;\n",
              "    fill: var(--fill-color);\n",
              "    height: 32px;\n",
              "    padding: 0;\n",
              "    width: 32px;\n",
              "  }\n",
              "\n",
              "  .colab-df-quickchart:hover {\n",
              "    background-color: var(--hover-bg-color);\n",
              "    box-shadow: 0 1px 2px rgba(60, 64, 67, 0.3), 0 1px 3px 1px rgba(60, 64, 67, 0.15);\n",
              "    fill: var(--button-hover-fill-color);\n",
              "  }\n",
              "\n",
              "  .colab-df-quickchart-complete:disabled,\n",
              "  .colab-df-quickchart-complete:disabled:hover {\n",
              "    background-color: var(--disabled-bg-color);\n",
              "    fill: var(--disabled-fill-color);\n",
              "    box-shadow: none;\n",
              "  }\n",
              "\n",
              "  .colab-df-spinner {\n",
              "    border: 2px solid var(--fill-color);\n",
              "    border-color: transparent;\n",
              "    border-bottom-color: var(--fill-color);\n",
              "    animation:\n",
              "      spin 1s steps(1) infinite;\n",
              "  }\n",
              "\n",
              "  @keyframes spin {\n",
              "    0% {\n",
              "      border-color: transparent;\n",
              "      border-bottom-color: var(--fill-color);\n",
              "      border-left-color: var(--fill-color);\n",
              "    }\n",
              "    20% {\n",
              "      border-color: transparent;\n",
              "      border-left-color: var(--fill-color);\n",
              "      border-top-color: var(--fill-color);\n",
              "    }\n",
              "    30% {\n",
              "      border-color: transparent;\n",
              "      border-left-color: var(--fill-color);\n",
              "      border-top-color: var(--fill-color);\n",
              "      border-right-color: var(--fill-color);\n",
              "    }\n",
              "    40% {\n",
              "      border-color: transparent;\n",
              "      border-right-color: var(--fill-color);\n",
              "      border-top-color: var(--fill-color);\n",
              "    }\n",
              "    60% {\n",
              "      border-color: transparent;\n",
              "      border-right-color: var(--fill-color);\n",
              "    }\n",
              "    80% {\n",
              "      border-color: transparent;\n",
              "      border-right-color: var(--fill-color);\n",
              "      border-bottom-color: var(--fill-color);\n",
              "    }\n",
              "    90% {\n",
              "      border-color: transparent;\n",
              "      border-bottom-color: var(--fill-color);\n",
              "    }\n",
              "  }\n",
              "</style>\n",
              "\n",
              "  <script>\n",
              "    async function quickchart(key) {\n",
              "      const quickchartButtonEl =\n",
              "        document.querySelector('#' + key + ' button');\n",
              "      quickchartButtonEl.disabled = true;  // To prevent multiple clicks.\n",
              "      quickchartButtonEl.classList.add('colab-df-spinner');\n",
              "      try {\n",
              "        const charts = await google.colab.kernel.invokeFunction(\n",
              "            'suggestCharts', [key], {});\n",
              "      } catch (error) {\n",
              "        console.error('Error during call to suggestCharts:', error);\n",
              "      }\n",
              "      quickchartButtonEl.classList.remove('colab-df-spinner');\n",
              "      quickchartButtonEl.classList.add('colab-df-quickchart-complete');\n",
              "    }\n",
              "    (() => {\n",
              "      let quickchartButtonEl =\n",
              "        document.querySelector('#df-b501edff-b660-49b6-9673-58051d9bae06 button');\n",
              "      quickchartButtonEl.style.display =\n",
              "        google.colab.kernel.accessAllowed ? 'block' : 'none';\n",
              "    })();\n",
              "  </script>\n",
              "</div>\n",
              "    </div>\n",
              "  </div>\n"
            ]
          },
          "metadata": {},
          "execution_count": 46
        }
      ],
      "source": [
        "X.describe()"
      ]
    },
    {
      "cell_type": "code",
      "execution_count": 47,
      "metadata": {
        "colab": {
          "base_uri": "https://localhost:8080/",
          "height": 718
        },
        "id": "vMWA035GRg7F",
        "outputId": "4b044245-5770-455b-bd9b-95b34ea0632d"
      },
      "outputs": [
        {
          "output_type": "display_data",
          "data": {
            "text/plain": [
              "<Figure size 1000x800 with 1 Axes>"
            ],
            "image/png": "[encoded data removed]"
          },
          "metadata": {}
        }
      ],
      "source": [
        "plt.figure(figsize=(10,8))\n",
        "g=sns.countplot(df, x='class' ,palette='hls')\n",
        "plt.title('Number of digit classes')\n",
        "plt.show()"
      ]
    },
    {
      "cell_type": "code",
      "execution_count": 48,
      "metadata": {
        "colab": {
          "base_uri": "https://localhost:8080/",
          "height": 470
        },
        "id": "WvWXn0njRg7F",
        "outputId": "0b94d6af-8f8f-4973-d96e-fac529c6fd21"
      },
      "outputs": [
        {
          "output_type": "execute_result",
          "data": {
            "text/plain": [
              "Text(0.5, 1.0, 'visualization of a sample of our data')"
            ]
          },
          "metadata": {},
          "execution_count": 48
        },
        {
          "output_type": "display_data",
          "data": {
            "text/plain": [
              "<Figure size 640x480 with 1 Axes>"
            ],
            "image/png": "[encoded data removed]"
          },
          "metadata": {}
        }
      ],
      "source": [
        "sample = X.iloc[3, :]\n",
        "sample = sample.values.reshape(28,28)\n",
        "plt.imshow(sample)\n",
        "plt.title('visualization of a sample of our data')"
      ]
    },
    {
      "cell_type": "markdown",
      "metadata": {
        "id": "9kHhU0cYRg7F"
      },
      "source": [
        "# Q 1"
      ]
    },
    {
      "cell_type": "code",
      "execution_count": 49,
      "metadata": {
        "id": "4znmTrrfRg7G"
      },
      "outputs": [],
      "source": [
        "from sklearn.model_selection import train_test_split\n",
        "X=df.drop('class', axis=1)\n",
        "y=df['class']\n",
        "X_train, X_test, y_train, y_test = train_test_split(X, y, test_size=0.2, random_state=42, stratify=y)"
      ]
    },
    {
      "cell_type": "code",
      "execution_count": 50,
      "metadata": {
        "colab": {
          "base_uri": "https://localhost:8080/"
        },
        "id": "tfzsdaQvRg7G",
        "outputId": "0362bb29-49d7-496f-c6a8-7c0873cdc0e6"
      },
      "outputs": [
        {
          "output_type": "stream",
          "name": "stdout",
          "text": [
            "X_train shape:  (56000, 784)\n",
            "X_test shape:  (14000, 784)\n"
          ]
        }
      ],
      "source": [
        "print('X_train shape: ', X_train.shape)\n",
        "print('X_test shape: ', X_test.shape)"
      ]
    },
    {
      "cell_type": "markdown",
      "metadata": {
        "id": "HdSNYFv2Rg7G"
      },
      "source": [
        "# Reducing dimension to 2,3, ...,9"
      ]
    },
    {
      "cell_type": "code",
      "execution_count": 51,
      "metadata": {
        "id": "Lljt76qGRg7G"
      },
      "outputs": [],
      "source": [
        "from sklearn.discriminant_analysis import LinearDiscriminantAnalysis\n",
        "from sklearn.model_selection import cross_val_score, RepeatedStratifiedKFold, KFold\n",
        "from sklearn.linear_model import Perceptron\n",
        "from sklearn.metrics import accuracy_score"
      ]
    },
    {
      "cell_type": "code",
      "execution_count": 52,
      "metadata": {
        "id": "LiqSqppmRg7G"
      },
      "outputs": [],
      "source": [
        "# Create lists to strore accuracies and make dataframe later\n",
        "final_train_acc=[]\n",
        "final_val_acc=[]"
      ]
    },
    {
      "cell_type": "markdown",
      "metadata": {
        "id": "-0mjNzsxRg7G"
      },
      "source": [
        "# LDA with 2 components"
      ]
    },
    {
      "cell_type": "code",
      "execution_count": 53,
      "metadata": {
        "colab": {
          "base_uri": "https://localhost:8080/"
        },
        "id": "3rQMb2aoRg7G",
        "outputId": "4d3b883a-fe51-4686-9410-84854f0a4265"
      },
      "outputs": [
        {
          "output_type": "stream",
          "name": "stdout",
          "text": [
            "Train accuracies for for LDA2:  [0.3397991071428571, 0.3036696428571429, 0.32303124999999994, 0.27844196428571427, 0.3386517857142858, 0.3204464285714286, 0.35008482142857145, 0.3307053571428572, 0.35500446428571425, 0.3034151785714286]\n",
            "Validation accuracies for for LDA2:  [0.3409642857142857, 0.3045714285714286, 0.32342857142857145, 0.27664285714285713, 0.33723214285714287, 0.32085714285714284, 0.348875, 0.3308928571428572, 0.35098214285714285, 0.30142857142857143]\n",
            "mean Train accuracies for for LDA2:  0.32432500000000003\n",
            "mean Validation accuracies for for LDA2:  0.32358750000000003\n"
          ]
        }
      ],
      "source": [
        "# LDA2\n",
        "\n",
        "# Apply LDA for dimensionality reduction\n",
        "lda = LinearDiscriminantAnalysis(n_components=2)\n",
        "X_lda_2 = lda.fit_transform(X_train, y_train)\n",
        "X_lda_2_df=pd.DataFrame(X_lda_2)\n",
        "\n",
        "\n",
        "# Perceptron classifier\n",
        "clf_perc = Perceptron()\n",
        "\n",
        "\n",
        "# 5-fold crossvalidation\n",
        "kfold_cv=KFold(n_splits=5, shuffle=True)\n",
        "\n",
        "# Lists to store train and test accuracies for every 5-Fold\n",
        "train_acc_lda2=[]\n",
        "val_acc_lda2=[]\n",
        "\n",
        "for i in range(10):\n",
        "    # Lists to store train and test accuracies for each fold\n",
        "    train_accuracies = []\n",
        "    test_accuracies = []\n",
        "\n",
        "    # Perform K-fold cross-validation\n",
        "    for train_index, test_index in kfold_cv.split(X_lda_2_df, y_train):\n",
        "\n",
        "        # Split data into train and test sets for each fold\n",
        "        X_train_fold, X_test_fold = X_lda_2_df.iloc[train_index], X_lda_2_df.iloc[test_index]\n",
        "        y_train_fold, y_test_fold = y_train.iloc[train_index], y_train.iloc[test_index]\n",
        "\n",
        "        # Train perceptrin model on training data\n",
        "        clf_perc.fit(X_train_fold, y_train_fold)\n",
        "\n",
        "        # Predictions on train and test data\n",
        "        y_train_pred = clf_perc.predict(X_train_fold)\n",
        "        y_test_pred = clf_perc.predict(X_test_fold)\n",
        "\n",
        "        # Accuracy for this fold and append to lists\n",
        "        train_accuracy = accuracy_score(y_train_fold, y_train_pred)\n",
        "        test_accuracy = accuracy_score(y_test_fold, y_test_pred)\n",
        "\n",
        "        train_accuracies.append(train_accuracy)\n",
        "        test_accuracies.append(test_accuracy)\n",
        "\n",
        "    # Strore mean of accuracies for each 5-fold\n",
        "    train_acc_lda2.append(np.mean(train_accuracies))\n",
        "    val_acc_lda2.append(np.mean(test_accuracies))\n",
        "\n",
        "\n",
        "print('Train accuracies for for LDA2: ' ,train_acc_lda2)\n",
        "print('Validation accuracies for for LDA2: ', val_acc_lda2)\n",
        "\n",
        "print('mean Train accuracies for for LDA2: ' ,np.mean(train_acc_lda2))\n",
        "print('mean Validation accuracies for for LDA2: ', np.mean(val_acc_lda2))\n",
        "#---------------------------------------------------------------\n",
        "\n",
        "final_train_acc.append(train_acc_lda2)\n",
        "final_val_acc.append(val_acc_lda2)\n"
      ]
    },
    {
      "cell_type": "markdown",
      "metadata": {
        "id": "YgP3qn8VRg7G"
      },
      "source": [
        "# LDA with 3 components"
      ]
    },
    {
      "cell_type": "code",
      "execution_count": 54,
      "metadata": {
        "colab": {
          "base_uri": "https://localhost:8080/"
        },
        "id": "JezDMsecRg7H",
        "outputId": "626ef001-6134-4270-dd46-a17ff9687186"
      },
      "outputs": [
        {
          "output_type": "stream",
          "name": "stdout",
          "text": [
            "Train accuracies for for LDA3:  [0.5660892857142857, 0.46108035714285717, 0.48775, 0.4817321428571429, 0.4581875, 0.551125, 0.48634374999999996, 0.4789598214285714, 0.4299598214285714, 0.4869955357142858]\n",
            "Validation accuracies for for LDA3:  [0.5688214285714286, 0.46278571428571424, 0.4896607142857142, 0.48433928571428575, 0.4608035714285714, 0.5530535714285714, 0.4853035714285715, 0.47633928571428574, 0.4302142857142857, 0.4865178571428571]\n",
            "mean Train accuracies for for LDA3:  0.48882232142857146\n",
            "mean Validation accuracies for for LDA3:  0.48978392857142855\n"
          ]
        }
      ],
      "source": [
        "# LDA3\n",
        "\n",
        "# Apply LDA for dimensionality reduction\n",
        "lda = LinearDiscriminantAnalysis(n_components=3)\n",
        "X_lda_3 = lda.fit_transform(X_train, y_train)\n",
        "X_lda_3_df=pd.DataFrame(X_lda_3)\n",
        "\n",
        "\n",
        "# Perceptron classifier\n",
        "clf_perc = Perceptron()\n",
        "\n",
        "\n",
        "# 5-fold crossvalidation\n",
        "kfold_cv=KFold(n_splits=5, shuffle=True)\n",
        "\n",
        "# Lists to store train and test accuracies for every 5-Fold\n",
        "train_acc_lda3=[]\n",
        "val_acc_lda3=[]\n",
        "\n",
        "for i in range(10):\n",
        "    # Lists to store train and test accuracies for each fold\n",
        "    train_accuracies = []\n",
        "    test_accuracies = []\n",
        "\n",
        "    # Perform K-fold cross-validation\n",
        "    for train_index, test_index in kfold_cv.split(X_lda_3_df, y_train):\n",
        "\n",
        "        # Split data into train and test sets for each fold\n",
        "        X_train_fold, X_test_fold = X_lda_3_df.iloc[train_index], X_lda_3_df.iloc[test_index]\n",
        "        y_train_fold, y_test_fold = y_train.iloc[train_index], y_train.iloc[test_index]\n",
        "\n",
        "        # Train perceptrin model on training data\n",
        "        clf_perc.fit(X_train_fold, y_train_fold)\n",
        "\n",
        "        # Predictions on train and test data\n",
        "        y_train_pred = clf_perc.predict(X_train_fold)\n",
        "        y_test_pred = clf_perc.predict(X_test_fold)\n",
        "\n",
        "        # Accuracy for this fold and append to lists\n",
        "        train_accuracy = accuracy_score(y_train_fold, y_train_pred)\n",
        "        test_accuracy = accuracy_score(y_test_fold, y_test_pred)\n",
        "\n",
        "        train_accuracies.append(train_accuracy)\n",
        "        test_accuracies.append(test_accuracy)\n",
        "\n",
        "    # Strore mean of accuracies for each 5-fold\n",
        "    train_acc_lda3.append(np.mean(train_accuracies))\n",
        "    val_acc_lda3.append(np.mean(test_accuracies))\n",
        "\n",
        "\n",
        "print('Train accuracies for for LDA3: ' ,train_acc_lda3)\n",
        "print('Validation accuracies for for LDA3: ', val_acc_lda3)\n",
        "\n",
        "print('mean Train accuracies for for LDA3: ' ,np.mean(train_acc_lda3))\n",
        "print('mean Validation accuracies for for LDA3: ', np.mean(val_acc_lda3))\n",
        "#---------------------------------------------------------------\n",
        "\n",
        "final_train_acc.append(train_acc_lda3)\n",
        "final_val_acc.append(val_acc_lda3)"
      ]
    },
    {
      "cell_type": "markdown",
      "metadata": {
        "id": "7QyjGT1wRg7H"
      },
      "source": [
        "# LDA with 4 components"
      ]
    },
    {
      "cell_type": "code",
      "execution_count": 55,
      "metadata": {
        "colab": {
          "base_uri": "https://localhost:8080/"
        },
        "id": "jVYHg15aRg7H",
        "outputId": "9b991329-ab71-403b-a9ac-04c8f21bbdb9"
      },
      "outputs": [
        {
          "output_type": "stream",
          "name": "stdout",
          "text": [
            "Train accuracies for for LDA4:  [0.6343348214285714, 0.5960982142857143, 0.6019642857142857, 0.6065580357142857, 0.6497678571428571, 0.6532544642857143, 0.6327499999999999, 0.6439955357142857, 0.6456741071428571, 0.6156205357142858]\n",
            "Validation accuracies for for LDA4:  [0.634107142857143, 0.5965714285714286, 0.60325, 0.6046607142857143, 0.6506964285714286, 0.6516071428571429, 0.6315535714285715, 0.6434464285714286, 0.645, 0.6172678571428571]\n",
            "mean Train accuracies for for LDA4:  0.6280017857142857\n",
            "mean Validation accuracies for for LDA4:  0.6278160714285714\n"
          ]
        }
      ],
      "source": [
        "# LDA4\n",
        "\n",
        "# Apply LDA for dimensionality reduction\n",
        "lda = LinearDiscriminantAnalysis(n_components=4)\n",
        "X_lda_4 = lda.fit_transform(X_train, y_train)\n",
        "X_lda_4_df=pd.DataFrame(X_lda_4)\n",
        "\n",
        "\n",
        "# Perceptron classifier\n",
        "clf_perc = Perceptron()\n",
        "\n",
        "\n",
        "# 5-fold crossvalidation\n",
        "kfold_cv=KFold(n_splits=5, shuffle=True)\n",
        "\n",
        "# Lists to store train and test accuracies for every 5-Fold\n",
        "train_acc_lda4=[]\n",
        "val_acc_lda4=[]\n",
        "\n",
        "for i in range(10):\n",
        "    # Lists to store train and test accuracies for each fold\n",
        "    train_accuracies = []\n",
        "    test_accuracies = []\n",
        "\n",
        "    # Perform K-fold cross-validation\n",
        "    for train_index, test_index in kfold_cv.split(X_lda_4_df, y_train):\n",
        "\n",
        "        # Split data into train and test sets for each fold\n",
        "        X_train_fold, X_test_fold = X_lda_4_df.iloc[train_index], X_lda_4_df.iloc[test_index]\n",
        "        y_train_fold, y_test_fold = y_train.iloc[train_index], y_train.iloc[test_index]\n",
        "\n",
        "        # Train perceptrin model on training data\n",
        "        clf_perc.fit(X_train_fold, y_train_fold)\n",
        "\n",
        "        # Predictions on train and test data\n",
        "        y_train_pred = clf_perc.predict(X_train_fold)\n",
        "        y_test_pred = clf_perc.predict(X_test_fold)\n",
        "\n",
        "        # Accuracy for this fold and append to lists\n",
        "        train_accuracy = accuracy_score(y_train_fold, y_train_pred)\n",
        "        test_accuracy = accuracy_score(y_test_fold, y_test_pred)\n",
        "\n",
        "        train_accuracies.append(train_accuracy)\n",
        "        test_accuracies.append(test_accuracy)\n",
        "\n",
        "    # Strore mean of accuracies for each 5-fold\n",
        "    train_acc_lda4.append(np.mean(train_accuracies))\n",
        "    val_acc_lda4.append(np.mean(test_accuracies))\n",
        "\n",
        "\n",
        "print('Train accuracies for for LDA4: ' ,train_acc_lda4)\n",
        "print('Validation accuracies for for LDA4: ', val_acc_lda4)\n",
        "\n",
        "print('mean Train accuracies for for LDA4: ' ,np.mean(train_acc_lda4))\n",
        "print('mean Validation accuracies for for LDA4: ', np.mean(val_acc_lda4))\n",
        "\n",
        "#---------------------------------------------------------------\n",
        "\n",
        "final_train_acc.append(train_acc_lda4)\n",
        "final_val_acc.append(val_acc_lda4)"
      ]
    },
    {
      "cell_type": "markdown",
      "metadata": {
        "id": "y2DNeqogRg7H"
      },
      "source": [
        "# LDA with 5 components"
      ]
    },
    {
      "cell_type": "code",
      "execution_count": 56,
      "metadata": {
        "colab": {
          "base_uri": "https://localhost:8080/"
        },
        "id": "kWZfLK3oRg7H",
        "outputId": "ef0b5275-302d-4d6e-9b9e-58451a3c7cdd"
      },
      "outputs": [
        {
          "output_type": "stream",
          "name": "stdout",
          "text": [
            "Train accuracies for for LDA5:  [0.7029955357142857, 0.6675803571428572, 0.6625491071428572, 0.6829508928571429, 0.66328125, 0.6889598214285714, 0.6745089285714286, 0.6949910714285715, 0.6608705357142858, 0.6857232142857143]\n",
            "Validation accuracies for for LDA5:  [0.7040892857142856, 0.6657678571428571, 0.659142857142857, 0.6821607142857143, 0.6639285714285714, 0.6883750000000001, 0.6753928571428572, 0.6923214285714285, 0.6577857142857143, 0.6875714285714285]\n",
            "mean Train accuracies for for LDA5:  0.6784410714285714\n",
            "mean Validation accuracies for for LDA5:  0.6776535714285714\n"
          ]
        }
      ],
      "source": [
        "# LDA5\n",
        "\n",
        "# Apply LDA for dimensionality reduction\n",
        "lda = LinearDiscriminantAnalysis(n_components=5)\n",
        "X_lda_5 = lda.fit_transform(X_train, y_train)\n",
        "X_lda_5_df=pd.DataFrame(X_lda_5)\n",
        "\n",
        "\n",
        "# Perceptron classifier\n",
        "clf_perc = Perceptron()\n",
        "\n",
        "\n",
        "# 5-fold crossvalidation\n",
        "kfold_cv=KFold(n_splits=5, shuffle=True)\n",
        "\n",
        "# Lists to store train and test accuracies for every 5-Fold\n",
        "train_acc_lda5=[]\n",
        "val_acc_lda5=[]\n",
        "\n",
        "for i in range(10):\n",
        "    # Lists to store train and test accuracies for each fold\n",
        "    train_accuracies = []\n",
        "    test_accuracies = []\n",
        "\n",
        "    # Perform K-fold cross-validation\n",
        "    for train_index, test_index in kfold_cv.split(X_lda_5_df, y_train):\n",
        "\n",
        "        # Split data into train and test sets for each fold\n",
        "        X_train_fold, X_test_fold = X_lda_5_df.iloc[train_index], X_lda_5_df.iloc[test_index]\n",
        "        y_train_fold, y_test_fold = y_train.iloc[train_index], y_train.iloc[test_index]\n",
        "\n",
        "        # Train perceptrin model on training data\n",
        "        clf_perc.fit(X_train_fold, y_train_fold)\n",
        "\n",
        "        # Predictions on train and test data\n",
        "        y_train_pred = clf_perc.predict(X_train_fold)\n",
        "        y_test_pred = clf_perc.predict(X_test_fold)\n",
        "\n",
        "        # Accuracy for this fold and append to lists\n",
        "        train_accuracy = accuracy_score(y_train_fold, y_train_pred)\n",
        "        test_accuracy = accuracy_score(y_test_fold, y_test_pred)\n",
        "\n",
        "        train_accuracies.append(train_accuracy)\n",
        "        test_accuracies.append(test_accuracy)\n",
        "\n",
        "    # Strore mean of accuracies for each 5-fold\n",
        "    train_acc_lda5.append(np.mean(train_accuracies))\n",
        "    val_acc_lda5.append(np.mean(test_accuracies))\n",
        "\n",
        "\n",
        "print('Train accuracies for for LDA5: ' ,train_acc_lda5)\n",
        "print('Validation accuracies for for LDA5: ', val_acc_lda5)\n",
        "\n",
        "print('mean Train accuracies for for LDA5: ' ,np.mean(train_acc_lda5))\n",
        "print('mean Validation accuracies for for LDA5: ', np.mean(val_acc_lda5))\n",
        "#---------------------------------------------------------------\n",
        "\n",
        "final_train_acc.append(train_acc_lda5)\n",
        "final_val_acc.append(val_acc_lda5)"
      ]
    },
    {
      "cell_type": "markdown",
      "metadata": {
        "id": "MtS4mRbfRg7H"
      },
      "source": [
        "# LDA with 6 components"
      ]
    },
    {
      "cell_type": "code",
      "execution_count": 57,
      "metadata": {
        "colab": {
          "base_uri": "https://localhost:8080/"
        },
        "id": "ocFcrlB7Rg7H",
        "outputId": "bada4010-4cf2-4342-8be6-b374ec94a785"
      },
      "outputs": [
        {
          "output_type": "stream",
          "name": "stdout",
          "text": [
            "Train accuracies for for LDA6:  [0.7174196428571429, 0.7116071428571429, 0.7011473214285714, 0.7431026785714286, 0.7190089285714285, 0.72009375, 0.7500848214285715, 0.7357678571428572, 0.7029866071428572, 0.7062098214285715]\n",
            "Validation accuracies for for LDA6:  [0.7188571428571429, 0.7109285714285714, 0.7010892857142856, 0.7437678571428571, 0.7181071428571428, 0.7207857142857143, 0.7479464285714286, 0.7353035714285715, 0.7018214285714285, 0.7047321428571428]\n",
            "mean Train accuracies for for LDA6:  0.7207428571428572\n",
            "mean Validation accuracies for for LDA6:  0.7203339285714285\n"
          ]
        }
      ],
      "source": [
        "# LDA6\n",
        "\n",
        "# Apply LDA for dimensionality reduction\n",
        "lda = LinearDiscriminantAnalysis(n_components=6)\n",
        "X_lda_6 = lda.fit_transform(X_train, y_train)\n",
        "X_lda_6_df=pd.DataFrame(X_lda_6)\n",
        "\n",
        "\n",
        "# Perceptron classifier\n",
        "clf_perc = Perceptron()\n",
        "\n",
        "\n",
        "# 5-fold crossvalidation\n",
        "kfold_cv=KFold(n_splits=5, shuffle=True)\n",
        "\n",
        "# Lists to store train and test accuracies for every 5-Fold\n",
        "train_acc_lda6=[]\n",
        "val_acc_lda6=[]\n",
        "\n",
        "for i in range(10):\n",
        "    # Lists to store train and test accuracies for each fold\n",
        "    train_accuracies = []\n",
        "    test_accuracies = []\n",
        "\n",
        "    # Perform K-fold cross-validation\n",
        "    for train_index, test_index in kfold_cv.split(X_lda_6_df, y_train):\n",
        "\n",
        "        # Split data into train and test sets for each fold\n",
        "        X_train_fold, X_test_fold = X_lda_6_df.iloc[train_index], X_lda_6_df.iloc[test_index]\n",
        "        y_train_fold, y_test_fold = y_train.iloc[train_index], y_train.iloc[test_index]\n",
        "\n",
        "        # Train perceptrin model on training data\n",
        "        clf_perc.fit(X_train_fold, y_train_fold)\n",
        "\n",
        "        # Predictions on train and test data\n",
        "        y_train_pred = clf_perc.predict(X_train_fold)\n",
        "        y_test_pred = clf_perc.predict(X_test_fold)\n",
        "\n",
        "        # Accuracy for this fold and append to lists\n",
        "        train_accuracy = accuracy_score(y_train_fold, y_train_pred)\n",
        "        test_accuracy = accuracy_score(y_test_fold, y_test_pred)\n",
        "\n",
        "        train_accuracies.append(train_accuracy)\n",
        "        test_accuracies.append(test_accuracy)\n",
        "\n",
        "    # Strore mean of accuracies for each 5-fold\n",
        "    train_acc_lda6.append(np.mean(train_accuracies))\n",
        "    val_acc_lda6.append(np.mean(test_accuracies))\n",
        "\n",
        "\n",
        "print('Train accuracies for for LDA6: ' ,train_acc_lda6)\n",
        "print('Validation accuracies for for LDA6: ', val_acc_lda6)\n",
        "\n",
        "print('mean Train accuracies for for LDA6: ' ,np.mean(train_acc_lda6))\n",
        "print('mean Validation accuracies for for LDA6: ', np.mean(val_acc_lda6))\n",
        "#---------------------------------------------------------------\n",
        "\n",
        "final_train_acc.append(train_acc_lda6)\n",
        "final_val_acc.append(val_acc_lda6)"
      ]
    },
    {
      "cell_type": "markdown",
      "metadata": {
        "id": "tuM0QTG3Rg7H"
      },
      "source": [
        "# LDA with 7 components"
      ]
    },
    {
      "cell_type": "code",
      "execution_count": 58,
      "metadata": {
        "colab": {
          "base_uri": "https://localhost:8080/"
        },
        "id": "lsZI1j5SRg7H",
        "outputId": "05127095-494f-4333-80b4-c3c64c0e664a"
      },
      "outputs": [
        {
          "output_type": "stream",
          "name": "stdout",
          "text": [
            "Train accuracies for for LDA7:  [0.7710491071428571, 0.758875, 0.7864375000000001, 0.7477723214285714, 0.7418883928571429, 0.760875, 0.7622053571428571, 0.7592723214285714, 0.7568214285714285, 0.7815714285714286]\n",
            "Validation accuracies for for LDA7:  [0.7700714285714285, 0.7585178571428572, 0.7850892857142857, 0.7475714285714286, 0.741625, 0.7618571428571429, 0.7620357142857144, 0.7585, 0.7573035714285714, 0.7817321428571429]\n",
            "mean Train accuracies for for LDA7:  0.7626767857142858\n",
            "mean Validation accuracies for for LDA7:  0.7624303571428572\n"
          ]
        }
      ],
      "source": [
        "# LDA7\n",
        "\n",
        "# Apply LDA for dimensionality reduction\n",
        "lda = LinearDiscriminantAnalysis(n_components=7)\n",
        "X_lda_7 = lda.fit_transform(X_train, y_train)\n",
        "X_lda_7_df=pd.DataFrame(X_lda_7)\n",
        "\n",
        "\n",
        "# Perceptron classifier\n",
        "clf_perc = Perceptron()\n",
        "\n",
        "\n",
        "# 5-fold crossvalidation\n",
        "kfold_cv=KFold(n_splits=5, shuffle=True)\n",
        "\n",
        "# Lists to store train and test accuracies for every 5-Fold\n",
        "train_acc_lda7=[]\n",
        "val_acc_lda7=[]\n",
        "\n",
        "for i in range(10):\n",
        "    # Lists to store train and test accuracies for each fold\n",
        "    train_accuracies = []\n",
        "    test_accuracies = []\n",
        "\n",
        "    # Perform K-fold cross-validation\n",
        "    for train_index, test_index in kfold_cv.split(X_lda_7_df, y_train):\n",
        "\n",
        "        # Split data into train and test sets for each fold\n",
        "        X_train_fold, X_test_fold = X_lda_7_df.iloc[train_index], X_lda_7_df.iloc[test_index]\n",
        "        y_train_fold, y_test_fold = y_train.iloc[train_index], y_train.iloc[test_index]\n",
        "\n",
        "        # Train perceptrin model on training data\n",
        "        clf_perc.fit(X_train_fold, y_train_fold)\n",
        "\n",
        "        # Predictions on train and test data\n",
        "        y_train_pred = clf_perc.predict(X_train_fold)\n",
        "        y_test_pred = clf_perc.predict(X_test_fold)\n",
        "\n",
        "        # Accuracy for this fold and append to lists\n",
        "        train_accuracy = accuracy_score(y_train_fold, y_train_pred)\n",
        "        test_accuracy = accuracy_score(y_test_fold, y_test_pred)\n",
        "\n",
        "        train_accuracies.append(train_accuracy)\n",
        "        test_accuracies.append(test_accuracy)\n",
        "\n",
        "    # Strore mean of accuracies for each 5-fold\n",
        "    train_acc_lda7.append(np.mean(train_accuracies))\n",
        "    val_acc_lda7.append(np.mean(test_accuracies))\n",
        "\n",
        "\n",
        "print('Train accuracies for for LDA7: ' ,train_acc_lda7)\n",
        "print('Validation accuracies for for LDA7: ', val_acc_lda7)\n",
        "\n",
        "print('mean Train accuracies for for LDA7: ' ,np.mean(train_acc_lda7))\n",
        "print('mean Validation accuracies for for LDA7: ', np.mean(val_acc_lda7))\n",
        "#---------------------------------------------------------------\n",
        "\n",
        "final_train_acc.append(train_acc_lda7)\n",
        "final_val_acc.append(val_acc_lda7)"
      ]
    },
    {
      "cell_type": "markdown",
      "metadata": {
        "id": "89KmJKOwRg7H"
      },
      "source": [
        "# LDA with 8 components"
      ]
    },
    {
      "cell_type": "code",
      "execution_count": 59,
      "metadata": {
        "colab": {
          "base_uri": "https://localhost:8080/"
        },
        "id": "ux9r8mf3Rg7I",
        "outputId": "1fb13747-330e-44ac-f286-cc4a0eb30dc7"
      },
      "outputs": [
        {
          "output_type": "stream",
          "name": "stdout",
          "text": [
            "Train accuracies for for LDA8:  [0.818375, 0.8249017857142856, 0.8211875, 0.8316250000000001, 0.8243392857142858, 0.8254151785714285, 0.8138482142857143, 0.8183392857142857, 0.8309017857142857, 0.8227008928571429]\n",
            "Validation accuracies for for LDA8:  [0.8194464285714286, 0.8256428571428571, 0.8220357142857143, 0.8311607142857141, 0.8241964285714285, 0.8250357142857144, 0.8119285714285714, 0.8177499999999999, 0.8305357142857144, 0.8228928571428572]\n",
            "mean Train accuracies for for LDA8:  0.8231633928571428\n",
            "mean Validation accuracies for for LDA8:  0.8230625\n"
          ]
        }
      ],
      "source": [
        "# LDA8\n",
        "\n",
        "# Apply LDA for dimensionality reduction\n",
        "lda = LinearDiscriminantAnalysis(n_components=8)\n",
        "X_lda_8 = lda.fit_transform(X_train, y_train)\n",
        "X_lda_8_df=pd.DataFrame(X_lda_8)\n",
        "\n",
        "\n",
        "# Perceptron classifier\n",
        "clf_perc = Perceptron()\n",
        "\n",
        "\n",
        "# 5-fold crossvalidation\n",
        "kfold_cv=KFold(n_splits=5, shuffle=True)\n",
        "\n",
        "# Lists to store train and test accuracies for every 5-Fold\n",
        "train_acc_lda8=[]\n",
        "val_acc_lda8=[]\n",
        "\n",
        "for i in range(10):\n",
        "    # Lists to store train and test accuracies for each fold\n",
        "    train_accuracies = []\n",
        "    test_accuracies = []\n",
        "\n",
        "    # Perform K-fold cross-validation\n",
        "    for train_index, test_index in kfold_cv.split(X_lda_8_df, y_train):\n",
        "\n",
        "        # Split data into train and test sets for each fold\n",
        "        X_train_fold, X_test_fold = X_lda_8_df.iloc[train_index], X_lda_8_df.iloc[test_index]\n",
        "        y_train_fold, y_test_fold = y_train.iloc[train_index], y_train.iloc[test_index]\n",
        "\n",
        "        # Train perceptrin model on training data\n",
        "        clf_perc.fit(X_train_fold, y_train_fold)\n",
        "\n",
        "        # Predictions on train and test data\n",
        "        y_train_pred = clf_perc.predict(X_train_fold)\n",
        "        y_test_pred = clf_perc.predict(X_test_fold)\n",
        "\n",
        "        # Accuracy for this fold and append to lists\n",
        "        train_accuracy = accuracy_score(y_train_fold, y_train_pred)\n",
        "        test_accuracy = accuracy_score(y_test_fold, y_test_pred)\n",
        "\n",
        "        train_accuracies.append(train_accuracy)\n",
        "        test_accuracies.append(test_accuracy)\n",
        "\n",
        "    # Strore mean of accuracies for each 5-fold\n",
        "    train_acc_lda8.append(np.mean(train_accuracies))\n",
        "    val_acc_lda8.append(np.mean(test_accuracies))\n",
        "\n",
        "\n",
        "print('Train accuracies for for LDA8: ' ,train_acc_lda8)\n",
        "print('Validation accuracies for for LDA8: ', val_acc_lda8)\n",
        "\n",
        "print('mean Train accuracies for for LDA8: ' ,np.mean(train_acc_lda8))\n",
        "print('mean Validation accuracies for for LDA8: ', np.mean(val_acc_lda8))\n",
        "#---------------------------------------------------------------\n",
        "\n",
        "final_train_acc.append(train_acc_lda8)\n",
        "final_val_acc.append(val_acc_lda8)"
      ]
    },
    {
      "cell_type": "markdown",
      "metadata": {
        "id": "kjn1r_eRRg7I"
      },
      "source": [
        "# LDA with 9 components"
      ]
    },
    {
      "cell_type": "code",
      "execution_count": 60,
      "metadata": {
        "colab": {
          "base_uri": "https://localhost:8080/"
        },
        "id": "OPTEUo6DRg7I",
        "outputId": "71d83fc7-87c2-4883-9d34-4e9e256fa737"
      },
      "outputs": [
        {
          "output_type": "stream",
          "name": "stdout",
          "text": [
            "Train accuracies for for LDA9:  [0.8397008928571429, 0.8370401785714285, 0.8399955357142858, 0.8336741071428572, 0.8356830357142858, 0.8455267857142857, 0.8314910714285715, 0.83434375, 0.843299107142857, 0.8372723214285713]\n",
            "Validation accuracies for for LDA9:  [0.8406607142857144, 0.8368749999999998, 0.8407678571428571, 0.8324107142857142, 0.8344642857142857, 0.8442857142857143, 0.8308035714285713, 0.834875, 0.8446071428571429, 0.8349464285714285]\n",
            "mean Train accuracies for for LDA9:  0.8378026785714286\n",
            "mean Validation accuracies for for LDA9:  0.8374696428571429\n"
          ]
        }
      ],
      "source": [
        "# LDA9\n",
        "\n",
        "# Apply LDA for dimensionality reduction\n",
        "lda = LinearDiscriminantAnalysis(n_components=9)\n",
        "X_lda_9 = lda.fit_transform(X_train, y_train)\n",
        "X_lda_9_df=pd.DataFrame(X_lda_9)\n",
        "\n",
        "\n",
        "# Perceptron classifier\n",
        "clf_perc = Perceptron()\n",
        "\n",
        "\n",
        "# 5-fold crossvalidation\n",
        "kfold_cv=KFold(n_splits=5, shuffle=True)\n",
        "\n",
        "# Lists to store train and test accuracies for every 5-Fold\n",
        "train_acc_lda9=[]\n",
        "val_acc_lda9=[]\n",
        "\n",
        "for i in range(10):\n",
        "    # Lists to store train and test accuracies for each fold\n",
        "    train_accuracies = []\n",
        "    test_accuracies = []\n",
        "\n",
        "    # Perform K-fold cross-validation\n",
        "    for train_index, test_index in kfold_cv.split(X_lda_9_df, y_train):\n",
        "\n",
        "        # Split data into train and test sets for each fold\n",
        "        X_train_fold, X_test_fold = X_lda_9_df.iloc[train_index], X_lda_9_df.iloc[test_index]\n",
        "        y_train_fold, y_test_fold = y_train.iloc[train_index], y_train.iloc[test_index]\n",
        "\n",
        "        # Train perceptrin model on training data\n",
        "        clf_perc.fit(X_train_fold, y_train_fold)\n",
        "\n",
        "        # Predictions on train and test data\n",
        "        y_train_pred = clf_perc.predict(X_train_fold)\n",
        "        y_test_pred = clf_perc.predict(X_test_fold)\n",
        "\n",
        "        # Accuracy for this fold and append to lists\n",
        "        train_accuracy = accuracy_score(y_train_fold, y_train_pred)\n",
        "        test_accuracy = accuracy_score(y_test_fold, y_test_pred)\n",
        "\n",
        "        train_accuracies.append(train_accuracy)\n",
        "        test_accuracies.append(test_accuracy)\n",
        "\n",
        "    # Strore mean of accuracies for each 5-fold\n",
        "    train_acc_lda9.append(np.mean(train_accuracies))\n",
        "    val_acc_lda9.append(np.mean(test_accuracies))\n",
        "\n",
        "\n",
        "print('Train accuracies for for LDA9: ' ,train_acc_lda9)\n",
        "print('Validation accuracies for for LDA9: ', val_acc_lda9)\n",
        "\n",
        "print('mean Train accuracies for for LDA9: ' ,np.mean(train_acc_lda9))\n",
        "print('mean Validation accuracies for for LDA9: ', np.mean(val_acc_lda9))\n",
        "#---------------------------------------------------------------\n",
        "\n",
        "final_train_acc.append(train_acc_lda9)\n",
        "final_val_acc.append(val_acc_lda9)"
      ]
    },
    {
      "cell_type": "code",
      "execution_count": 61,
      "metadata": {
        "id": "NhGQ6CcSRg7I"
      },
      "outputs": [],
      "source": [
        "indecies=['2_components','3_components','4_components','5_components','6_components','7_components','8_components','9_components']\n",
        "columns=[f'iter{i}' for i in range(1,11)]\n",
        "train_acc_df=(pd.DataFrame(final_train_acc,columns=columns, index=indecies))\n",
        "train_acc_df=train_acc_df.T\n",
        "test_acc_df=(pd.DataFrame(final_val_acc,columns=columns, index=indecies))\n",
        "test_acc_df=test_acc_df.T"
      ]
    },
    {
      "cell_type": "code",
      "execution_count": 62,
      "metadata": {
        "colab": {
          "base_uri": "https://localhost:8080/"
        },
        "id": "fJB5w5UxRg7I",
        "outputId": "73547b68-d4cc-48a0-e7dc-ca02b97258c5"
      },
      "outputs": [
        {
          "output_type": "stream",
          "name": "stdout",
          "text": [
            "Train accuracies over 10 iteration\n",
            "        2_components  3_components  4_components  5_components  6_components  \\\n",
            "iter1       0.339799      0.566089      0.634335      0.702996      0.717420   \n",
            "iter2       0.303670      0.461080      0.596098      0.667580      0.711607   \n",
            "iter3       0.323031      0.487750      0.601964      0.662549      0.701147   \n",
            "iter4       0.278442      0.481732      0.606558      0.682951      0.743103   \n",
            "iter5       0.338652      0.458188      0.649768      0.663281      0.719009   \n",
            "iter6       0.320446      0.551125      0.653254      0.688960      0.720094   \n",
            "iter7       0.350085      0.486344      0.632750      0.674509      0.750085   \n",
            "iter8       0.330705      0.478960      0.643996      0.694991      0.735768   \n",
            "iter9       0.355004      0.429960      0.645674      0.660871      0.702987   \n",
            "iter10      0.303415      0.486996      0.615621      0.685723      0.706210   \n",
            "\n",
            "        7_components  8_components  9_components  \n",
            "iter1       0.771049      0.818375      0.839701  \n",
            "iter2       0.758875      0.824902      0.837040  \n",
            "iter3       0.786438      0.821187      0.839996  \n",
            "iter4       0.747772      0.831625      0.833674  \n",
            "iter5       0.741888      0.824339      0.835683  \n",
            "iter6       0.760875      0.825415      0.845527  \n",
            "iter7       0.762205      0.813848      0.831491  \n",
            "iter8       0.759272      0.818339      0.834344  \n",
            "iter9       0.756821      0.830902      0.843299  \n",
            "iter10      0.781571      0.822701      0.837272  \n"
          ]
        }
      ],
      "source": [
        "print('Train accuracies over 10 iteration')\n",
        "print(train_acc_df)"
      ]
    },
    {
      "cell_type": "code",
      "execution_count": 63,
      "metadata": {
        "colab": {
          "base_uri": "https://localhost:8080/"
        },
        "id": "WAn8XY6RRg7I",
        "outputId": "e45c9c65-1838-4e83-f0fc-bd4f70114846"
      },
      "outputs": [
        {
          "output_type": "stream",
          "name": "stdout",
          "text": [
            "Validation accuracies over 10 iteration\n",
            "        2_components  3_components  4_components  5_components  6_components  \\\n",
            "iter1       0.340964      0.568821      0.634107      0.704089      0.718857   \n",
            "iter2       0.304571      0.462786      0.596571      0.665768      0.710929   \n",
            "iter3       0.323429      0.489661      0.603250      0.659143      0.701089   \n",
            "iter4       0.276643      0.484339      0.604661      0.682161      0.743768   \n",
            "iter5       0.337232      0.460804      0.650696      0.663929      0.718107   \n",
            "iter6       0.320857      0.553054      0.651607      0.688375      0.720786   \n",
            "iter7       0.348875      0.485304      0.631554      0.675393      0.747946   \n",
            "iter8       0.330893      0.476339      0.643446      0.692321      0.735304   \n",
            "iter9       0.350982      0.430214      0.645000      0.657786      0.701821   \n",
            "iter10      0.301429      0.486518      0.617268      0.687571      0.704732   \n",
            "\n",
            "        7_components  8_components  9_components  \n",
            "iter1       0.770071      0.819446      0.840661  \n",
            "iter2       0.758518      0.825643      0.836875  \n",
            "iter3       0.785089      0.822036      0.840768  \n",
            "iter4       0.747571      0.831161      0.832411  \n",
            "iter5       0.741625      0.824196      0.834464  \n",
            "iter6       0.761857      0.825036      0.844286  \n",
            "iter7       0.762036      0.811929      0.830804  \n",
            "iter8       0.758500      0.817750      0.834875  \n",
            "iter9       0.757304      0.830536      0.844607  \n",
            "iter10      0.781732      0.822893      0.834946  \n"
          ]
        }
      ],
      "source": [
        "print('Validation accuracies over 10 iteration')\n",
        "print(test_acc_df)"
      ]
    },
    {
      "cell_type": "code",
      "execution_count": 65,
      "metadata": {
        "colab": {
          "base_uri": "https://localhost:8080/",
          "height": 1000
        },
        "id": "r9TYW-7jRg7I",
        "outputId": "4cf52249-2348-4d4f-e342-d812b1509ae2"
      },
      "outputs": [
        {
          "output_type": "display_data",
          "data": {
            "text/plain": [
              "<Figure size 1500x700 with 1 Axes>"
            ],
            "image/png": "[encoded data removed]"
          },
          "metadata": {}
        },
        {
          "output_type": "display_data",
          "data": {
            "text/plain": [
              "<Figure size 1500x700 with 1 Axes>"
            ],
            "image/png": "[encoded data removed]"
          },
          "metadata": {}
        }
      ],
      "source": [
        "# Plotting boxplots\n",
        "\n",
        "# train plots\n",
        "plt.figure(figsize=(15, 7))\n",
        "train_acc_df.boxplot()\n",
        "plt.title('Boxplot of Train Accuracies for Different Components')\n",
        "plt.xlabel('Number of LDA Components')\n",
        "plt.ylabel('Accuracy')\n",
        "plt.show()\n",
        "\n",
        "# validation plots\n",
        "plt.figure(figsize=(15, 7))\n",
        "test_acc_df.boxplot()\n",
        "plt.title('Boxplot of Validation Accuracies for Different Components')\n",
        "plt.xlabel('Number of LDA Components')\n",
        "plt.ylabel('Accuracy')\n",
        "plt.show()"
      ]
    },
    {
      "cell_type": "markdown",
      "metadata": {
        "id": "MVr1K-mdRg7I"
      },
      "source": [
        "# Q2"
      ]
    },
    {
      "cell_type": "markdown",
      "metadata": {
        "id": "gEkdZ3glRg7I"
      },
      "source": [
        "we choose LDA model with 9 components, and now we want to use normalization method and choose best parameters for perceptron classifier."
      ]
    },
    {
      "cell_type": "code",
      "execution_count": 66,
      "metadata": {
        "colab": {
          "base_uri": "https://localhost:8080/"
        },
        "id": "iVb33MNIRg7I",
        "outputId": "abea024a-44fc-4955-abdb-e8df715c8c82"
      },
      "outputs": [
        {
          "output_type": "stream",
          "name": "stdout",
          "text": [
            "Best Hyperparameters: {'perceptron__alpha': 0.0001, 'perceptron__penalty': 'l2'}\n",
            "Cross-Validation Results: [0.78892857 0.80473214 0.85232143 0.80973214 0.82580357]\n",
            "Mean Accuracy: 0.8163035714285714\n"
          ]
        }
      ],
      "source": [
        "from sklearn.preprocessing import StandardScaler\n",
        "from sklearn.model_selection import GridSearchCV\n",
        "from sklearn.pipeline import make_pipeline\n",
        "from sklearn.model_selection import KFold\n",
        "from sklearn.metrics import accuracy_score\n",
        "\n",
        "\n",
        "# Apply LDA for dimensionality reduction\n",
        "lda = LinearDiscriminantAnalysis(n_components=9)\n",
        "X_lda_9 = lda.fit_transform(X_train, y_train)\n",
        "X_lda_9_df = pd.DataFrame(X_lda_9)\n",
        "\n",
        "# Perceptron classifier\n",
        "clf_perc = Perceptron()\n",
        "\n",
        "# StandardScaler for normalization\n",
        "scaler = StandardScaler()\n",
        "\n",
        "# Create a pipeline with LDA, StandardScaler, and Perceptron\n",
        "pipeline = make_pipeline(scaler, clf_perc)\n",
        "\n",
        "# 5-fold cross-validation\n",
        "kfold_cv = KFold(n_splits=5, shuffle=True)\n",
        "\n",
        "# Define the parameter grid for grid search\n",
        "param_grid = {\n",
        "    'perceptron__penalty': [None, 'l2', 'l1'],\n",
        "    'perceptron__alpha': [0.0001 , 0.01, 0.1]\n",
        "}\n",
        "\n",
        "# GridSearchCV for hyperparameter tuning\n",
        "grid_search = GridSearchCV(pipeline, param_grid, cv=kfold_cv, scoring='accuracy', n_jobs=-1)\n",
        "grid_search.fit(X_lda_9_df, y_train)\n",
        "\n",
        "# Best hyperparameters\n",
        "print(\"Best Hyperparameters:\", grid_search.best_params_)\n",
        "\n",
        "# Evaluate the model using 5-fold cross-validation\n",
        "cross_val_results = cross_val_score(grid_search.best_estimator_, X_lda_9_df, y_train, cv=kfold_cv, scoring='accuracy')\n",
        "\n",
        "# Print results\n",
        "print(\"Cross-Validation Results:\", cross_val_results)\n",
        "print(\"Mean Accuracy:\", np.mean(cross_val_results))\n"
      ]
    },
    {
      "cell_type": "markdown",
      "source": [
        "Scaling the data and adjusting the perceptron's hyperparameters didn't enhance our model's performance."
      ],
      "metadata": {
        "id": "ykqKgGTWLpYO"
      }
    },
    {
      "cell_type": "markdown",
      "source": [
        "So we use \"Forward Selection\" method for feature selection"
      ],
      "metadata": {
        "id": "_jocklNfVGsd"
      }
    },
    {
      "cell_type": "code",
      "source": [
        "from sklearn.feature_selection import SequentialFeatureSelector as SFS\n",
        "\n",
        "# Apply LDA for dimensionality reduction\n",
        "lda = LinearDiscriminantAnalysis(n_components=9)\n",
        "X_lda_9 = lda.fit_transform(X_train, y_train)\n",
        "X_lda_9_df = pd.DataFrame(X_lda_9)\n",
        "\n",
        "# Perceptron classifier\n",
        "clf_perc = Perceptron()\n",
        "\n",
        "# 5-fold cross-validation\n",
        "kfold_cv = KFold(n_splits=5, shuffle=True)\n",
        "\n",
        "# Using \"Forward Selection\" method for feature selection\n",
        "selector = SFS(clf_perc, n_features_to_select=5, direction='forward')\n",
        "selected_features = selector.fit(X_lda_9_df, y_train)\n",
        "\n",
        "selected_feature_indices = selector.get_support(indices=True)\n",
        "selected_features = X_lda_9_df.columns[selected_feature_indices]\n",
        "# Print selected features\n",
        "print('selected features: ',selected_features)\n",
        "\n",
        "# Evaluate the model using 5-fold cross-validation\n",
        "cross_val_results = cross_val_score(clf_perc, X_lda_9_df[selected_features], y_train, cv=kfold_cv, scoring='accuracy')\n",
        "\n",
        "# Print results\n",
        "print(\"Cross-Validation Results:\", cross_val_results)\n",
        "print(\"Mean Accuracy:\", np.mean(cross_val_results))"
      ],
      "metadata": {
        "colab": {
          "base_uri": "https://localhost:8080/"
        },
        "id": "iTthDPHAbxfm",
        "outputId": "53eeddcd-6fb8-4b64-d355-531750d80137"
      },
      "execution_count": 67,
      "outputs": [
        {
          "output_type": "stream",
          "name": "stdout",
          "text": [
            "selected features:  Int64Index([0, 1, 2, 3, 7], dtype='int64')\n",
            "Cross-Validation Results: [0.65357143 0.67464286 0.7725     0.67714286 0.70633929]\n",
            "Mean Accuracy: 0.6968392857142857\n"
          ]
        }
      ]
    },
    {
      "cell_type": "markdown",
      "source": [
        "Feature selection led to a decrease in our model's accuracy, indicating that it may not be a suitable method in this context."
      ],
      "metadata": {
        "id": "k4dyoqnVaD93"
      }
    },
    {
      "cell_type": "markdown",
      "source": [
        "Then we change our classifier model to SVM:"
      ],
      "metadata": {
        "id": "U5vGWwXLWgNs"
      }
    },
    {
      "cell_type": "code",
      "source": [
        "from sklearn.svm import SVC\n",
        "\n",
        "# Apply LDA for dimensionality reduction\n",
        "lda = LinearDiscriminantAnalysis(n_components=9)\n",
        "X_lda_9 = lda.fit_transform(X_train, y_train)\n",
        "X_lda_9_df = pd.DataFrame(X_lda_9)\n",
        "\n",
        "# SVM classifier\n",
        "clf_svm = SVC()\n",
        "\n",
        "# 5-fold cross-validation\n",
        "kfold_cv = KFold(n_splits=5, shuffle=True)\n",
        "\n",
        "# Evaluate the model using 5-fold cross-validation\n",
        "cross_val_results = cross_val_score(clf_svm, X_lda_9_df, y_train, cv=kfold_cv, scoring='accuracy')\n",
        "\n",
        "# Print results\n",
        "print(\"Cross-Validation Results:\", cross_val_results)\n",
        "print(\"Mean Accuracy:\", np.mean(cross_val_results))"
      ],
      "metadata": {
        "colab": {
          "base_uri": "https://localhost:8080/"
        },
        "id": "o8Q0ltjDVFYC",
        "outputId": "bc21d118-a481-48f5-ab78-cea252c589aa"
      },
      "execution_count": 68,
      "outputs": [
        {
          "output_type": "stream",
          "name": "stdout",
          "text": [
            "Cross-Validation Results: [0.9225     0.91901786 0.91866071 0.92410714 0.91964286]\n",
            "Mean Accuracy: 0.9207857142857142\n"
          ]
        }
      ]
    },
    {
      "cell_type": "markdown",
      "source": [
        "SVM works better."
      ],
      "metadata": {
        "id": "g_g5ZQCpZ5em"
      }
    },
    {
      "cell_type": "markdown",
      "source": [
        "Now we use Gridsearch to choose best kernel for svm classifier:"
      ],
      "metadata": {
        "id": "YIpF1bgdY69Y"
      }
    },
    {
      "cell_type": "code",
      "source": [
        "\n",
        "# Apply LDA for dimensionality reduction\n",
        "lda = LinearDiscriminantAnalysis(n_components=9)\n",
        "X_lda_9 = lda.fit_transform(X_train, y_train)\n",
        "X_lda_9_df = pd.DataFrame(X_lda_9)\n",
        "\n",
        "# SVM classifier\n",
        "clf_svm = SVC()\n",
        "\n",
        "# 5-fold cross-validation\n",
        "kfold_cv = KFold(n_splits=5, shuffle=True)\n",
        "\n",
        "# Define the parameter grid for grid search\n",
        "param_grid = {\n",
        "    'kernel': ['linear', 'rbf', 'poly']\n",
        "}\n",
        "\n",
        "# GridSearchCV\n",
        "grid_search = GridSearchCV(clf_svm, param_grid, cv=kfold_cv, scoring='accuracy', n_jobs=-1)\n",
        "grid_search.fit(X_lda_9_df, y_train)\n",
        "\n",
        "# Print the best hyperparameters\n",
        "print(\"Best Hyperparameters:\", grid_search.best_params_)\n",
        "\n",
        "# Evaluate the model using 5-fold cross-validation with the best hyperparameters\n",
        "cross_val_results = cross_val_score(grid_search.best_estimator_, X_lda_9_df, y_train, cv=kfold_cv, scoring='accuracy')\n",
        "\n",
        "# Print results\n",
        "print(\"Cross-Validation Results:\", cross_val_results)\n",
        "print(\"Mean Accuracy:\", np.mean(cross_val_results))\n"
      ],
      "metadata": {
        "colab": {
          "base_uri": "https://localhost:8080/"
        },
        "id": "kMiTgzVdVFUs",
        "outputId": "964cbc1a-9c26-42cb-f4b5-e418924aa5f5"
      },
      "execution_count": 69,
      "outputs": [
        {
          "output_type": "stream",
          "name": "stdout",
          "text": [
            "Best Hyperparameters: {'kernel': 'rbf'}\n",
            "Cross-Validation Results: [0.91991071 0.92178571 0.92133929 0.921875   0.91955357]\n",
            "Mean Accuracy: 0.9208928571428572\n"
          ]
        }
      ]
    },
    {
      "cell_type": "markdown",
      "source": [
        "# Q3"
      ],
      "metadata": {
        "id": "XZPschqvby2v"
      }
    },
    {
      "cell_type": "markdown",
      "source": [
        "We use our best model for test dataset"
      ],
      "metadata": {
        "id": "76LOrITmctAf"
      }
    },
    {
      "cell_type": "code",
      "source": [
        "# LDA9\n",
        "\n",
        "# Apply LDA for dimensionality reduction\n",
        "lda = LinearDiscriminantAnalysis(n_components=9)\n",
        "X_lda_9 = lda.fit_transform(X_train, y_train)\n",
        "X_lda_9_df=pd.DataFrame(X_lda_9)\n",
        "X_test_lda=lda.transform(X_test)\n",
        "X_test_lda_df=pd.DataFrame(X_test_lda)\n",
        "\n",
        "# Perceptron classifier\n",
        "clf_svm = SVC(kernel='rbf')\n",
        "\n",
        "# Fit svm classifier\n",
        "clf_svm.fit(X_lda_9_df, y_train)\n",
        "\n",
        "# Predict test dataset\n",
        "y_pred=clf_svm.predict(X_test_lda_df)\n",
        "\n",
        "# Evaluate model\n",
        "test_acc=accuracy_score(y_pred, y_test)\n",
        "\n",
        "print('The final model accuracy on Test set: ', test_acc)"
      ],
      "metadata": {
        "colab": {
          "base_uri": "https://localhost:8080/"
        },
        "id": "HQy6O2xRbxP_",
        "outputId": "c4a4ee36-5bd7-4d77-ba87-186c83c13f18"
      },
      "execution_count": 72,
      "outputs": [
        {
          "output_type": "stream",
          "name": "stdout",
          "text": [
            "The final model accuracy on Test set:  0.916\n"
          ]
        }
      ]
    },
    {
      "cell_type": "code",
      "source": [
        "from sklearn.metrics import confusion_matrix\n",
        "\n",
        "# Confusion matrix\n",
        "conf_matrix = confusion_matrix(y_test, y_pred)\n",
        "\n",
        "# Plot confusion matrix\n",
        "plt.figure(figsize=(8, 6))\n",
        "sns.heatmap(conf_matrix, annot=True, fmt='d', cmap='Blues', xticklabels=sorted(set(y_test)),\n",
        "            yticklabels=sorted(set(y_test)))\n",
        "plt.title('Confusion Matrix')\n",
        "plt.xlabel('Predicted Labels')\n",
        "plt.ylabel('True Labels')\n",
        "plt.show()"
      ],
      "metadata": {
        "colab": {
          "base_uri": "https://localhost:8080/",
          "height": 564
        },
        "id": "3UNR9oOobxKE",
        "outputId": "367a7841-14bc-4877-a941-a22428e6bfa0"
      },
      "execution_count": 73,
      "outputs": [
        {
          "output_type": "display_data",
          "data": {
            "text/plain": [
              "<Figure size 800x600 with 2 Axes>"
            ],
            "image/png": "[encoded data removed]"
          },
          "metadata": {}
        }
      ]
    },
    {
      "cell_type": "code",
      "source": [],
      "metadata": {
        "id": "bRT8xonLbxHq"
      },
      "execution_count": null,
      "outputs": []
    }
  ],
  "metadata": {
    "kernelspec": {
      "display_name": "base",
      "language": "python",
      "name": "python3"
    },
    "language_info": {
      "codemirror_mode": {
        "name": "ipython",
        "version": 3
      },
      "file_extension": ".py",
      "mimetype": "text/x-python",
      "name": "python",
      "nbconvert_exporter": "python",
      "pygments_lexer": "ipython3",
      "version": "3.11.5"
    },
    "colab": {
      "provenance": []
    }
  },
  "nbformat": 4,
  "nbformat_minor": 0
}